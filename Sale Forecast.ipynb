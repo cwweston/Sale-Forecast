{
 "cells": [
  {
   "cell_type": "code",
   "execution_count": 190,
   "id": "94cf5ebf",
   "metadata": {
    "extensions": {
     "jupyter_dashboards": {
      "version": 1,
      "views": {
       "grid_default": {},
       "report_default": {
        "hidden": true
       }
      }
     }
    }
   },
   "outputs": [],
   "source": [
    "import pandas as pd\n",
    "import pandas_datareader as pdr\n",
    "import ipywidgets as widgets\n",
    "import numpy as np\n",
    "import matplotlib.pyplot as plt\n",
    "import seaborn as sns"
   ]
  },
  {
   "cell_type": "code",
   "execution_count": 194,
   "id": "50b6a51d",
   "metadata": {
    "extensions": {
     "jupyter_dashboards": {
      "version": 1,
      "views": {
       "grid_default": {},
       "report_default": {
        "hidden": false
       }
      }
     }
    }
   },
   "outputs": [
    {
     "data": {
      "application/vnd.jupyter.widget-view+json": {
       "model_id": "f6a958b36902451e9b0909739a6dbc9f",
       "version_major": 2,
       "version_minor": 0
      },
      "text/plain": [
       "HBox(children=(Label(value='Electronic per dollar returns: 0.0449'),))"
      ]
     },
     "metadata": {},
     "output_type": "display_data"
    },
    {
     "data": {
      "application/vnd.jupyter.widget-view+json": {
       "model_id": "fcd50eeaf4be4cb98b4cec5321c24d6c",
       "version_major": 2,
       "version_minor": 0
      },
      "text/plain": [
       "HBox(children=(Label(value='Clothing per dollar returns: 0.2033'),))"
      ]
     },
     "metadata": {},
     "output_type": "display_data"
    },
    {
     "data": {
      "application/vnd.jupyter.widget-view+json": {
       "model_id": "f016e84bb4b842c8b76cb2c0b53cc242",
       "version_major": 2,
       "version_minor": 0
      },
      "text/plain": [
       "HBox(children=(Label(value='Produce per dollar returns: -0.0085'),))"
      ]
     },
     "metadata": {},
     "output_type": "display_data"
    },
    {
     "data": {
      "application/vnd.jupyter.widget-view+json": {
       "model_id": "75097dff3f85431b98ff1abb73493bd0",
       "version_major": 2,
       "version_minor": 0
      },
      "text/plain": [
       "interactive(children=(IntSlider(value=0, description='Electronics', max=1000), IntSlider(value=0, description=…"
      ]
     },
     "metadata": {},
     "output_type": "display_data"
    }
   ],
   "source": [
    "## FORECASTING SALES\n",
    "\n",
    "from sklearn.linear_model import LinearRegression\n",
    "from sklearn.model_selection import train_test_split\n",
    "\n",
    "## Load the data and create the data variables\n",
    "dataset = pd.read_csv('sale_sample.csv')\n",
    "\n",
    "x = dataset.iloc[:,1:4]\n",
    "y = dataset['Sales']\n",
    "x_train, x_test, y_train, y_test = train_test_split(x,y)\n",
    "\n",
    "# Create and fit the model for prediction\n",
    "lin = LinearRegression()\n",
    "lin.fit(x_train, y_train)\n",
    "y_pred = lin.predict(x_test)\n",
    "\n",
    "## Create Coefficients\n",
    "coef = lin.coef_\n",
    "components = pd.DataFrame(zip(x.columns, coef), columns = ['component', 'value'])\n",
    "components = components.append({'component':'intercept','value':lin.intercept_}, ignore_index = True)\n",
    "\n",
    "## Predicted return\n",
    "def product_coef(product_name, coef, value):\n",
    "    total, days, prev_date = 0, 0, None\n",
    "    for row in dataset[product_name]:\n",
    "        total += (row * coef)\n",
    "    for date in dataset['Date']:\n",
    "        if date != prev_date:\n",
    "            days += 1\n",
    "        prev_date = date\n",
    "    return total/days\n",
    "\n",
    "## Calculates coeficients\n",
    "def predicted_return(electronic_value, clothing_value, produce_value):\n",
    "    electronic_coef = product_coef(components['component'][0], components['value'][0], 0)\n",
    "    clothing_coef = product_coef(components['component'][1], components['value'][1], 1)\n",
    "    produce_coef = product_coef(components['component'][2], components['value'][2], 2)\n",
    "    intercept = components['value'][3]\n",
    "    formula = intercept + (electronic_coef * electronic_value) + (clothing_coef * clothing_value) + (produce_coef  * produce_value)\n",
    "    if electronic_value == 0 or clothing_value == 0 or produce_value == 0 or intercept == 0:\n",
    "        return 0\n",
    "    else:\n",
    "        return formula\n",
    "\n",
    "## Slider interactives from products\n",
    "electronic_value, clothing_value, produce_value, formula = 0, 0, 0, 0\n",
    "\n",
    "electronic_slider = widgets.IntSlider(value= electronic_value, \n",
    "                                      min=-0, max=1000, description='Electronics')\n",
    "clothing_slider = widgets.IntSlider(value = clothing_value, \n",
    "                                    min=-0, max=1000, description='Clothings')\n",
    "produce_slider = widgets.IntSlider(value= produce_value, \n",
    "                                   min=-0, max=1000, description='Produces')\n",
    "\n",
    "## BAR CHART\n",
    "## CURRENT VS PREDICTIVE SALES\n",
    "def update_predicted_sale(electronic_slider, clothing_slider, produce_slider):\n",
    "    formula = predicted_return(electronic_slider, clothing_slider, produce_slider)\n",
    "    ## Monthly product sales\n",
    "    electronic_sales, clothing_sales, produce_sales = 0, 0, 0\n",
    "    for sales in  dataset['Electronics']:\n",
    "        electronic_sales += sales\n",
    "    for sales in dataset['Clothing']:\n",
    "        clothing_sales += sales\n",
    "    for sales in dataset['Produce']:\n",
    "        produce_sales += sales\n",
    "    monthly_sale = electronic_sales + produce_sales + produce_sales\n",
    "    ## Bar chart data\n",
    "    current_sales = monthly_sale\n",
    "    predictive_sales = formula\n",
    "    X = np.arange(1)\n",
    "    fig = plt.figure()\n",
    "    ax = fig.add_axes([0,0,1,1])\n",
    "    ax.bar('Current Month Sales', monthly_sale, color = 'b', width = 0.35, align = 'center')\n",
    "    ax.bar('Predictive Month Sales', predictive_sales, color = 'g', width = 0.35, align = 'center')\n",
    "    ax.set_ylabel('Sales')\n",
    "    ax.set_title('Current Sales vs Predicted Sales')\n",
    "    ax.legend(labels=['Current', 'Predictive'])\n",
    "\n",
    "    ## Displays predictive and current sales, and bar chart\n",
    "    display(widgets.HBox([widgets.Label(value =\"Current Month Sales: ${:0.2f}\".format(monthly_sale))]))\n",
    "    display(widgets.HBox([widgets.Label(value =\"Future Predicted Sales: ${:0.2f}\".format(predictive_sales))]))\n",
    "    plt.show()\n",
    "    \n",
    "predicted_return(electronic_value, clothing_value, produce_value) \n",
    "display(widgets.HBox([widgets.Label(value =\"Electronic per dollar returns: {:0.4f}\".format(components['value'][0]))]))\n",
    "display(widgets.HBox([widgets.Label(value =\"Clothing per dollar returns: {:0.4f}\".format(components['value'][1]))]))\n",
    "display(widgets.HBox([widgets.Label(value =\"Produce per dollar returns: {:0.4f}\".format(components['value'][2]))]))\n",
    "\n",
    "widgets.interactive(update_predicted_sale, electronic_slider = electronic_slider, \n",
    "                   clothing_slider = clothing_slider, produce_slider = produce_slider)\n"
   ]
  },
  {
   "cell_type": "code",
   "execution_count": 192,
   "id": "a4f87fcc",
   "metadata": {
    "extensions": {
     "jupyter_dashboards": {
      "version": 1,
      "views": {
       "grid_default": {},
       "report_default": {
        "hidden": false
       }
      }
     }
    }
   },
   "outputs": [
    {
     "data": {
      "application/vnd.jupyter.widget-view+json": {
       "model_id": "be38d894cb874cd4bc715048452f6dff",
       "version_major": 2,
       "version_minor": 0
      },
      "text/plain": [
       "interactive(children=(Output(),), _dom_classes=('widget-interact',))"
      ]
     },
     "metadata": {},
     "output_type": "display_data"
    }
   ],
   "source": [
    "## PIE CHART\n",
    "\n",
    "## reads table from sale_sample.csv table\n",
    "dataset = pd.read_csv('sale_sample.csv')\n",
    "\n",
    "## Monthly product sales\n",
    "electronic_sales, clothing_sales, produce_sales = 0, 0, 0\n",
    "for sales in  dataset['Electronics']:\n",
    "    electronic_sales += sales\n",
    "for sales in dataset['Clothing']:\n",
    "    clothing_sales += sales\n",
    "for sales in dataset['Produce']:\n",
    "    produce_sales += sales\n",
    "\n",
    "monthly_sale = electronic_sales + produce_sales + produce_sales\n",
    "\n",
    "\n",
    "## Updates pie chart from sliders\n",
    "def update_Pie():\n",
    "    total.clear() \n",
    "    total.extend([electronic_sales, clothing_sales, produce_sales])\n",
    "    products = ['Electronics', 'Clothing', 'Produce']\n",
    "    color = ['r','g','b']\n",
    "    plt.pie(total, labels = products, \n",
    "            colors = color, shadow = True, startangle = 90, explode = (0,0,0), autopct = '%1.2f%%')\n",
    "    plt.legend()\n",
    "    display(widgets.HBox([widgets.Label(value =\"Monthly Product Sales\")]))\n",
    "    plt.show()\n",
    "    \n",
    "\n",
    "total = []    \n",
    "widgets.interactive(update_Pie)"
   ]
  },
  {
   "cell_type": "code",
   "execution_count": 193,
   "id": "1463bf4d",
   "metadata": {
    "extensions": {
     "jupyter_dashboards": {
      "version": 1,
      "views": {
       "grid_default": {},
       "report_default": {
        "hidden": false
       }
      }
     }
    },
    "scrolled": true
   },
   "outputs": [
    {
     "data": {
      "image/png": "[encoded data removed]",
      "text/plain": [
       "<Figure size 432x288 with 1 Axes>"
      ]
     },
     "metadata": {},
     "output_type": "display_data"
    }
   ],
   "source": [
    "## LINE CHART\n",
    "\n",
    "## reads table from sale_sample.csv table\\\n",
    "d_parser = lambda x: pd.datetime.strptime\n",
    "dataset = pd.read_csv('sale_sample.csv', parse_dates = ['Date'], )\n",
    "\n",
    "\n",
    "stock = ['Electronics', 'Clothing', 'Produce']\n",
    "\n",
    "new_dataset = dataset.unstack().reset_index()\n",
    "new_dataset.columns = ['Value', 'Category', 'Date']\n",
    "new_dataset = new_dataset[['Value', 'Date', 'Category']]\n",
    "\n",
    "## columns for new data set\n",
    "def columns():\n",
    "    count, price, prev_date = 0, 0, None, \n",
    "    stock, date_column, product_column, price_column = ['Electronics', 'Clothing', 'Produce'], [], [], []\n",
    "    while count <= 2:\n",
    "        # creates date and product lists for table\n",
    "        inc = 0\n",
    "        for date in dataset['Date']:\n",
    "            if date != prev_date:\n",
    "                date_column.append(date)\n",
    "                product_column.append(stock[count])  \n",
    "                # calculates price from stock per day\n",
    "                price = 0\n",
    "                for day in dataset['Date']:\n",
    "                    if date == day:\n",
    "                        price += dataset[stock[count]][inc]     \n",
    "                        inc += 1\n",
    "                price_column.append(price)\n",
    "            prev_date = date\n",
    "        count += 1\n",
    "    return date_column, product_column, price_column\n",
    "\n",
    "month_sales = {'Date': columns()[0],\n",
    "        'Product': columns()[1],\n",
    "        'Sale': columns()[2]\n",
    "        }\n",
    "\n",
    "df = pd.DataFrame(month_sales, columns = ['Date', 'Product', 'Sale'])\n",
    "\n",
    "sns.set(style=\"whitegrid\")\n",
    "ax = sns.lineplot(data = df, x = 'Date', y = 'Sale', hue = 'Product')\n",
    "ax.tick_params(axis='x', rotation=45)\n",
    "plt.legend(loc='upper left')\n",
    "plt.show()"
   ]
  },
  {
   "cell_type": "code",
   "execution_count": null,
   "id": "f356c4b6",
   "metadata": {
    "extensions": {
     "jupyter_dashboards": {
      "version": 1,
      "views": {
       "grid_default": {},
       "report_default": {
        "hidden": true
       }
      }
     }
    }
   },
   "outputs": [],
   "source": []
  }
 ],
 "metadata": {
  "extensions": {
   "jupyter_dashboards": {
    "activeView": "report_default",
    "version": 1,
    "views": {
     "grid_default": {
      "cellMargin": 10,
      "defaultCellHeight": 20,
      "maxColumns": 12,
      "name": "grid",
      "type": "grid"
     },
     "report_default": {
      "name": "report",
      "type": "report"
     }
    }
   }
  },
  "kernelspec": {
   "display_name": "Python 3 (ipykernel)",
   "language": "python",
   "name": "python3"
  },
  "language_info": {
   "codemirror_mode": {
    "name": "ipython",
    "version": 3
   },
   "file_extension": ".py",
   "mimetype": "text/x-python",
   "name": "python",
   "nbconvert_exporter": "python",
   "pygments_lexer": "ipython3",
   "version": "3.9.4"
  }
 },
 "nbformat": 4,
 "nbformat_minor": 5
}
